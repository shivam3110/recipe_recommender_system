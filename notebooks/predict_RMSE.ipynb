{
 "cells": [
  {
   "cell_type": "code",
   "execution_count": 3,
   "metadata": {},
   "outputs": [
    {
     "name": "stdout",
     "output_type": "stream",
     "text": [
      "D:\\UKW_work\\code\\recipe_recommender_system\n",
      "D:\\UKW_work\\code\\recipe_recommender_system\n"
     ]
    }
   ],
   "source": [
    "import os\n",
    "print(os.getcwd())\n",
    "os.chdir(r'D:\\UKW_work\\code\\recipe_recommender_system')\n",
    "print(os.getcwd())\n",
    "\n",
    "import pandas as pd\n",
    "import numpy as np\n",
    "np.random.seed(42)"
   ]
  },
  {
   "cell_type": "code",
   "execution_count": 2,
   "metadata": {},
   "outputs": [],
   "source": [
    "from baseline.config import DATA_DIR\n",
    "from baseline.config import RAW_recepies_path, RAW_interactions_path\n",
    "from baseline.config import PP_users_path, PP_recipes_path\n",
    "from baseline.config import  token_interactions_train_path\n",
    "from baseline.config import  token_interactions_val_path, token_interactions_test_path\n"
   ]
  },
  {
   "cell_type": "code",
   "execution_count": 4,
   "metadata": {},
   "outputs": [],
   "source": [
    "train_df = pd.read_csv(token_interactions_train_path)\n",
    "val_df = pd.read_csv(token_interactions_val_path)\n",
    "test_df = pd.read_csv(token_interactions_test_path)\n",
    "\n"
   ]
  },
  {
   "cell_type": "code",
   "execution_count": 5,
   "metadata": {},
   "outputs": [
    {
     "name": "stdout",
     "output_type": "stream",
     "text": [
      "25076 160901 (698901, 6)\n"
     ]
    },
    {
     "data": {
      "text/plain": [
       "Index(['user_id', 'recipe_id', 'date', 'rating', 'u', 'i'], dtype='object')"
      ]
     },
     "execution_count": 5,
     "metadata": {},
     "output_type": "execute_result"
    }
   ],
   "source": [
    "print(train_df['user_id'].nunique(), train_df['recipe_id'].nunique(), train_df.shape)\n",
    "train_df.columns"
   ]
  },
  {
   "cell_type": "code",
   "execution_count": 6,
   "metadata": {},
   "outputs": [
    {
     "name": "stdout",
     "output_type": "stream",
     "text": [
      "num_users: 25076\n",
      "num_items: 178263\n"
     ]
    }
   ],
   "source": [
    "\n",
    "# ---------------------------\n",
    "# 1. Determine number of users and items\n",
    "# ---------------------------\n",
    "# We assume that the mapping in 'u' and 'i' is consistent across all datasets.\n",
    "num_users = train_df['u'].max() + 1  # Contiguous integer mapping starting at 0\n",
    "num_items = train_df['i'].max() + 1\n",
    "\n",
    "print('num_users:',  num_users)\n",
    "print('num_items:',  num_items)"
   ]
  },
  {
   "cell_type": "code",
   "execution_count": null,
   "metadata": {},
   "outputs": [],
   "source": [
    "# ---------------------------\n",
    "# 2. Set Hyperparameters and Initialize Latent Factors\n",
    "# ---------------------------\n",
    "latent_dim = 3\n",
    "\n",
    "# Randomly initialize latent factors for users and items.\n",
    "user_factors = np.random.normal(scale=0.1, size=(num_users, latent_dim))\n",
    "item_factors = np.random.normal(scale=0.1, size=(num_items, latent_dim))\n",
    "\n"
   ]
  },
  {
   "cell_type": "code",
   "execution_count": 10,
   "metadata": {},
   "outputs": [],
   "source": [
    "# ---------------------------\n",
    "# 3. Define Prediction and RMSE Functions\n",
    "# ---------------------------\n",
    "def predict(u_idx, i_idx):\n",
    "    \"\"\"\n",
    "    Predict the rating for a given user and item by taking the dot product \n",
    "    of the corresponding latent factors.\n",
    "    \"\"\"\n",
    "    return np.dot(user_factors[u_idx], item_factors[i_idx])\n",
    "\n",
    "def compute_rmse(df):\n",
    "    \"\"\"\n",
    "    Compute RMSE over a DataFrame containing (u, i, rating) columns.\n",
    "    \"\"\"\n",
    "    errors = []\n",
    "    for _, row in df.iterrows():\n",
    "        u_idx = row['u']\n",
    "        i_idx = row['i']\n",
    "        rating = row['rating']\n",
    "        pred = predict(u_idx, i_idx)\n",
    "        errors.append((rating - pred)**2)\n",
    "    mse = np.mean(errors)\n",
    "    return np.sqrt(mse)"
   ]
  },
  {
   "cell_type": "code",
   "execution_count": 20,
   "metadata": {},
   "outputs": [],
   "source": [
    "\n",
    "# ---------------------------\n",
    "# 3. Define Prediction and RMSE Functions\n",
    "# ---------------------------\n",
    "# def predict(user, item):\n",
    "#     \"\"\"Predict the rating by taking the dot product of user and item latent factors.\"\"\"\n",
    "#     return np.dot(user_factors[user], item_factors[item])\n",
    "\n",
    "\n",
    "def predict(user, item):\n",
    "    \"\"\"Predict the rating by taking the dot product of user and item latent factors.\"\"\"\n",
    "    if user >= user_factors.shape[0] or item >= item_factors.shape[0]:\n",
    "        return np.mean(user_factors)  # Return average rating if index out of bounds\n",
    "    return np.dot(user_factors[user], item_factors[item])  # Ensure valid indexing\n",
    "\n",
    "# def compute_rmse(data):\n",
    "#     \"\"\"Compute RMSE for a given dataset (list of tuples: user, item, rating).\"\"\"\n",
    "#     squared_errors = [(rating - predict(user, item))**2 for user, item, rating in data]\n",
    "#     mse = np.mean(squared_errors)\n",
    "#     return np.sqrt(mse)\n",
    "\n",
    "\n",
    "def compute_rmse(df):\n",
    "    \"\"\"\n",
    "    Compute RMSE over a DataFrame with extra columns.\n",
    "    Uses the mapped user ('u') and item ('i') indices along with the 'rating'.\n",
    "    \"\"\"\n",
    "    errors = []\n",
    "    for _, row in df.iterrows():\n",
    "        u_idx = row['u']\n",
    "        i_idx = row['i']\n",
    "        rating = row['rating']\n",
    "        pred = predict(u_idx, i_idx)\n",
    "        errors.append((rating - pred) ** 2)\n",
    "    mse = np.mean(errors)\n",
    "    return np.sqrt(mse)\n",
    "\n"
   ]
  },
  {
   "cell_type": "code",
   "execution_count": 21,
   "metadata": {},
   "outputs": [
    {
     "name": "stdout",
     "output_type": "stream",
     "text": [
      "Epoch 1/1 - Train RMSE: 1.8648 | Val RMSE: 4.4320 | Test RMSE: 4.4220\n"
     ]
    }
   ],
   "source": [
    "# ---------------------------\n",
    "# 4. Training Loop with Validation\n",
    "# ---------------------------\n",
    "\n",
    "train_data = train_df.copy()\n",
    "val_data = val_df.copy()\n",
    "test_data = test_df.copy()\n",
    "\n",
    "learning_rate = 0.005\n",
    "num_epochs = 1\n",
    "\n",
    "for epoch in range(num_epochs):\n",
    "    # Shuffle training data at the start of each epoch\n",
    "    train_data_shuffled = train_data.sample(frac=1).reset_index(drop=True)\n",
    "    \n",
    "    # Process each training example\n",
    "    for _, row in train_data_shuffled.iterrows():\n",
    "        u_idx = row['u']\n",
    "        i_idx = row['i']\n",
    "        rating = row['rating']\n",
    "        \n",
    "        # Compute prediction and error\n",
    "        pred = predict(u_idx, i_idx)\n",
    "        error = rating - pred\n",
    "        \n",
    "        # Compute gradients (derivative of squared error)\n",
    "        grad_u = -2 * error * item_factors[i_idx]\n",
    "        grad_i = -2 * error * user_factors[u_idx]\n",
    "        \n",
    "        # Update latent factors using gradient descent\n",
    "        user_factors[u_idx] -= learning_rate * grad_u\n",
    "        item_factors[i_idx] -= learning_rate * grad_i\n",
    "    \n",
    "    # Compute RMSE for training, validation, and test datasets\n",
    "    train_rmse = compute_rmse(train_data)\n",
    "    val_rmse = compute_rmse(val_data)\n",
    "    test_rmse = compute_rmse(test_data)\n",
    "    \n",
    "    # Print intermediate results for this epoch\n",
    "    print(f\"Epoch {epoch+1}/{num_epochs} - Train RMSE: {train_rmse:.4f} | Val RMSE: {val_rmse:.4f} | Test RMSE: {test_rmse:.4f}\")"
   ]
  },
  {
   "cell_type": "code",
   "execution_count": 23,
   "metadata": {},
   "outputs": [
    {
     "data": {
      "text/plain": [
       "np.float64(4.015899425069802)"
      ]
     },
     "execution_count": 23,
     "metadata": {},
     "output_type": "execute_result"
    }
   ],
   "source": [
    "user_id = 8937\n",
    "item_id  = 44551\n",
    "\n",
    "predicted_rating = np.dot(user_factors[user_id], item_factors[item_id])\n",
    "predicted_rating"
   ]
  },
  {
   "cell_type": "code",
   "execution_count": null,
   "metadata": {},
   "outputs": [],
   "source": []
  },
  {
   "cell_type": "markdown",
   "metadata": {},
   "source": [
    "# BAYESIAN AVERAGE Rating"
   ]
  },
  {
   "cell_type": "code",
   "execution_count": null,
   "metadata": {},
   "outputs": [],
   "source": [
    "def add_bayesian_average(df, m=5):\n",
    "    \"\"\"\n",
    "    Adds a 'bayesian_avg' column to the DataFrame.\n",
    "    \n",
    "    Parameters:\n",
    "      df (pd.DataFrame): DataFrame with columns ['user_id', 'recipe_id', 'date', 'rating', 'u', 'i']\n",
    "      m (float): Hyperparameter controlling the weight of the prior.\n",
    "      \n",
    "    Returns:\n",
    "      pd.DataFrame: The original DataFrame with an added 'bayesian_avg' column.\n",
    "    \"\"\"\n",
    "    # Compute the overall average rating (C)\n",
    "    C = df['rating'].mean()\n",
    "    \n",
    "    # Group by recipe_id to get the number of ratings (v) and average rating (R) per recipe\n",
    "    grouped = df.groupby('recipe_id').agg(\n",
    "        count=('rating', 'count'),\n",
    "        mean_rating=('rating', 'mean')\n",
    "    ).reset_index()\n",
    "    \n",
    "    # Compute Bayesian average rating for each recipe\n",
    "    grouped['bayesian_avg'] = (grouped['count'] * grouped['mean_rating'] + m * C) / (grouped['count'] + m)\n",
    "    \n",
    "    # Merge the Bayesian average back to the original DataFrame\n",
    "    df = df.merge(grouped[['recipe_id', 'bayesian_avg']], on='recipe_id', how='left')\n",
    "    return df"
   ]
  },
  {
   "cell_type": "code",
   "execution_count": 24,
   "metadata": {},
   "outputs": [
    {
     "data": {
      "text/html": [
       "<div>\n",
       "<style scoped>\n",
       "    .dataframe tbody tr th:only-of-type {\n",
       "        vertical-align: middle;\n",
       "    }\n",
       "\n",
       "    .dataframe tbody tr th {\n",
       "        vertical-align: top;\n",
       "    }\n",
       "\n",
       "    .dataframe thead th {\n",
       "        text-align: right;\n",
       "    }\n",
       "</style>\n",
       "<table border=\"1\" class=\"dataframe\">\n",
       "  <thead>\n",
       "    <tr style=\"text-align: right;\">\n",
       "      <th></th>\n",
       "      <th>user_id</th>\n",
       "      <th>recipe_id</th>\n",
       "      <th>date</th>\n",
       "      <th>rating</th>\n",
       "      <th>u</th>\n",
       "      <th>i</th>\n",
       "    </tr>\n",
       "  </thead>\n",
       "  <tbody>\n",
       "    <tr>\n",
       "      <th>0</th>\n",
       "      <td>2046</td>\n",
       "      <td>4684</td>\n",
       "      <td>2000-02-25</td>\n",
       "      <td>5.0</td>\n",
       "      <td>22095</td>\n",
       "      <td>44367</td>\n",
       "    </tr>\n",
       "    <tr>\n",
       "      <th>1</th>\n",
       "      <td>2046</td>\n",
       "      <td>517</td>\n",
       "      <td>2000-02-25</td>\n",
       "      <td>5.0</td>\n",
       "      <td>22095</td>\n",
       "      <td>87844</td>\n",
       "    </tr>\n",
       "    <tr>\n",
       "      <th>2</th>\n",
       "      <td>1773</td>\n",
       "      <td>7435</td>\n",
       "      <td>2000-03-13</td>\n",
       "      <td>5.0</td>\n",
       "      <td>24732</td>\n",
       "      <td>138181</td>\n",
       "    </tr>\n",
       "    <tr>\n",
       "      <th>3</th>\n",
       "      <td>1773</td>\n",
       "      <td>278</td>\n",
       "      <td>2000-03-13</td>\n",
       "      <td>4.0</td>\n",
       "      <td>24732</td>\n",
       "      <td>93054</td>\n",
       "    </tr>\n",
       "    <tr>\n",
       "      <th>4</th>\n",
       "      <td>2046</td>\n",
       "      <td>3431</td>\n",
       "      <td>2000-04-07</td>\n",
       "      <td>5.0</td>\n",
       "      <td>22095</td>\n",
       "      <td>101723</td>\n",
       "    </tr>\n",
       "  </tbody>\n",
       "</table>\n",
       "</div>"
      ],
      "text/plain": [
       "   user_id  recipe_id        date  rating      u       i\n",
       "0     2046       4684  2000-02-25     5.0  22095   44367\n",
       "1     2046        517  2000-02-25     5.0  22095   87844\n",
       "2     1773       7435  2000-03-13     5.0  24732  138181\n",
       "3     1773        278  2000-03-13     4.0  24732   93054\n",
       "4     2046       3431  2000-04-07     5.0  22095  101723"
      ]
     },
     "execution_count": 24,
     "metadata": {},
     "output_type": "execute_result"
    }
   ],
   "source": [
    "train_data.head()"
   ]
  },
  {
   "cell_type": "code",
   "execution_count": 26,
   "metadata": {},
   "outputs": [
    {
     "data": {
      "text/html": [
       "<div>\n",
       "<style scoped>\n",
       "    .dataframe tbody tr th:only-of-type {\n",
       "        vertical-align: middle;\n",
       "    }\n",
       "\n",
       "    .dataframe tbody tr th {\n",
       "        vertical-align: top;\n",
       "    }\n",
       "\n",
       "    .dataframe thead th {\n",
       "        text-align: right;\n",
       "    }\n",
       "</style>\n",
       "<table border=\"1\" class=\"dataframe\">\n",
       "  <thead>\n",
       "    <tr style=\"text-align: right;\">\n",
       "      <th></th>\n",
       "      <th>user_id</th>\n",
       "      <th>recipe_id</th>\n",
       "      <th>date</th>\n",
       "      <th>rating</th>\n",
       "      <th>u</th>\n",
       "      <th>i</th>\n",
       "      <th>bayesian_avg</th>\n",
       "    </tr>\n",
       "  </thead>\n",
       "  <tbody>\n",
       "    <tr>\n",
       "      <th>0</th>\n",
       "      <td>2046</td>\n",
       "      <td>4684</td>\n",
       "      <td>2000-02-25</td>\n",
       "      <td>5.0</td>\n",
       "      <td>22095</td>\n",
       "      <td>44367</td>\n",
       "      <td>4.899279</td>\n",
       "    </tr>\n",
       "    <tr>\n",
       "      <th>1</th>\n",
       "      <td>2046</td>\n",
       "      <td>517</td>\n",
       "      <td>2000-02-25</td>\n",
       "      <td>5.0</td>\n",
       "      <td>22095</td>\n",
       "      <td>87844</td>\n",
       "      <td>4.695778</td>\n",
       "    </tr>\n",
       "    <tr>\n",
       "      <th>2</th>\n",
       "      <td>1773</td>\n",
       "      <td>7435</td>\n",
       "      <td>2000-03-13</td>\n",
       "      <td>5.0</td>\n",
       "      <td>24732</td>\n",
       "      <td>138181</td>\n",
       "      <td>4.462348</td>\n",
       "    </tr>\n",
       "    <tr>\n",
       "      <th>3</th>\n",
       "      <td>1773</td>\n",
       "      <td>278</td>\n",
       "      <td>2000-03-13</td>\n",
       "      <td>4.0</td>\n",
       "      <td>24732</td>\n",
       "      <td>93054</td>\n",
       "      <td>4.462968</td>\n",
       "    </tr>\n",
       "    <tr>\n",
       "      <th>4</th>\n",
       "      <td>2046</td>\n",
       "      <td>3431</td>\n",
       "      <td>2000-04-07</td>\n",
       "      <td>5.0</td>\n",
       "      <td>22095</td>\n",
       "      <td>101723</td>\n",
       "      <td>4.759265</td>\n",
       "    </tr>\n",
       "  </tbody>\n",
       "</table>\n",
       "</div>"
      ],
      "text/plain": [
       "   user_id  recipe_id        date  rating      u       i  bayesian_avg\n",
       "0     2046       4684  2000-02-25     5.0  22095   44367      4.899279\n",
       "1     2046        517  2000-02-25     5.0  22095   87844      4.695778\n",
       "2     1773       7435  2000-03-13     5.0  24732  138181      4.462348\n",
       "3     1773        278  2000-03-13     4.0  24732   93054      4.462968\n",
       "4     2046       3431  2000-04-07     5.0  22095  101723      4.759265"
      ]
     },
     "execution_count": 26,
     "metadata": {},
     "output_type": "execute_result"
    }
   ],
   "source": [
    "# Add the Bayesian average rating as a new column\n",
    "train_data = add_bayesian_average(train_data, m=5)\n",
    "train_data.head()"
   ]
  },
  {
   "cell_type": "code",
   "execution_count": 29,
   "metadata": {},
   "outputs": [
    {
     "data": {
      "text/html": [
       "<div>\n",
       "<style scoped>\n",
       "    .dataframe tbody tr th:only-of-type {\n",
       "        vertical-align: middle;\n",
       "    }\n",
       "\n",
       "    .dataframe tbody tr th {\n",
       "        vertical-align: top;\n",
       "    }\n",
       "\n",
       "    .dataframe thead th {\n",
       "        text-align: right;\n",
       "    }\n",
       "</style>\n",
       "<table border=\"1\" class=\"dataframe\">\n",
       "  <thead>\n",
       "    <tr style=\"text-align: right;\">\n",
       "      <th></th>\n",
       "      <th>user_id</th>\n",
       "      <th>recipe_id</th>\n",
       "      <th>date</th>\n",
       "      <th>rating</th>\n",
       "      <th>u</th>\n",
       "      <th>i</th>\n",
       "      <th>bayesian_avg</th>\n",
       "    </tr>\n",
       "  </thead>\n",
       "  <tbody>\n",
       "    <tr>\n",
       "      <th>0</th>\n",
       "      <td>8937</td>\n",
       "      <td>44551</td>\n",
       "      <td>2005-12-23</td>\n",
       "      <td>4.0</td>\n",
       "      <td>2</td>\n",
       "      <td>173538</td>\n",
       "      <td>4.177573</td>\n",
       "    </tr>\n",
       "    <tr>\n",
       "      <th>1</th>\n",
       "      <td>56680</td>\n",
       "      <td>126118</td>\n",
       "      <td>2006-10-07</td>\n",
       "      <td>4.0</td>\n",
       "      <td>16</td>\n",
       "      <td>177847</td>\n",
       "      <td>4.177573</td>\n",
       "    </tr>\n",
       "    <tr>\n",
       "      <th>2</th>\n",
       "      <td>349752</td>\n",
       "      <td>219596</td>\n",
       "      <td>2008-04-12</td>\n",
       "      <td>0.0</td>\n",
       "      <td>26</td>\n",
       "      <td>89896</td>\n",
       "      <td>3.510906</td>\n",
       "    </tr>\n",
       "    <tr>\n",
       "      <th>3</th>\n",
       "      <td>628951</td>\n",
       "      <td>82783</td>\n",
       "      <td>2007-11-13</td>\n",
       "      <td>2.0</td>\n",
       "      <td>45</td>\n",
       "      <td>172637</td>\n",
       "      <td>3.844239</td>\n",
       "    </tr>\n",
       "    <tr>\n",
       "      <th>4</th>\n",
       "      <td>92816</td>\n",
       "      <td>435013</td>\n",
       "      <td>2013-07-31</td>\n",
       "      <td>3.0</td>\n",
       "      <td>52</td>\n",
       "      <td>177935</td>\n",
       "      <td>4.010906</td>\n",
       "    </tr>\n",
       "  </tbody>\n",
       "</table>\n",
       "</div>"
      ],
      "text/plain": [
       "   user_id  recipe_id        date  rating   u       i  bayesian_avg\n",
       "0     8937      44551  2005-12-23     4.0   2  173538      4.177573\n",
       "1    56680     126118  2006-10-07     4.0  16  177847      4.177573\n",
       "2   349752     219596  2008-04-12     0.0  26   89896      3.510906\n",
       "3   628951      82783  2007-11-13     2.0  45  172637      3.844239\n",
       "4    92816     435013  2013-07-31     3.0  52  177935      4.010906"
      ]
     },
     "execution_count": 29,
     "metadata": {},
     "output_type": "execute_result"
    }
   ],
   "source": [
    "# Add the Bayesian average rating as a new column\n",
    "val_data = add_bayesian_average(val_data, m=5)\n",
    "test_data = add_bayesian_average(test_data, m=5)\n",
    "test_data.head()"
   ]
  },
  {
   "cell_type": "code",
   "execution_count": null,
   "metadata": {},
   "outputs": [],
   "source": []
  },
  {
   "cell_type": "code",
   "execution_count": null,
   "metadata": {},
   "outputs": [],
   "source": [
    "# ---------------------------\n",
    "# 2. Set Hyperparameters and Initialize Latent Factors\n",
    "# ---------------------------\n",
    "latent_dim = 3\n",
    "\n",
    "# Randomly initialize latent factors for users and items.\n",
    "user_factors = np.random.normal(scale=0.1, size=(num_users, latent_dim))\n",
    "item_factors = np.random.normal(scale=0.1, size=(num_items, latent_dim))"
   ]
  },
  {
   "cell_type": "code",
   "execution_count": 27,
   "metadata": {},
   "outputs": [],
   "source": [
    "\n",
    "# ---------------------------\n",
    "# 3. Define Prediction and RMSE Functions\n",
    "# ---------------------------\n",
    "\n",
    "def predict(user, item):\n",
    "    \"\"\"Predict the rating by taking the dot product of user and item latent factors.\"\"\"\n",
    "    if user >= user_factors.shape[0] or item >= item_factors.shape[0]:\n",
    "        return np.mean(user_factors)  # Return average rating if index out of bounds\n",
    "    return np.dot(user_factors[user], item_factors[item])  # Ensure valid indexing\n",
    "\n",
    "\n",
    "\n",
    "def compute_rmse(df):\n",
    "    \"\"\"\n",
    "    Compute RMSE over a DataFrame with extra columns.\n",
    "    Uses the mapped user ('u') and item ('i') indices along with the 'rating'.\n",
    "    \"\"\"\n",
    "    errors = []\n",
    "    for _, row in df.iterrows():\n",
    "        u_idx = row['u']\n",
    "        i_idx = row['i']\n",
    "        rating = row['bayesian_avg']\n",
    "        pred = predict(u_idx, i_idx)\n",
    "        errors.append((rating - pred) ** 2)\n",
    "    mse = np.mean(errors)\n",
    "    return np.sqrt(mse)\n",
    "\n"
   ]
  },
  {
   "cell_type": "code",
   "execution_count": 30,
   "metadata": {},
   "outputs": [
    {
     "name": "stdout",
     "output_type": "stream",
     "text": [
      "Epoch 1/1 - Train RMSE: 1.2859 | Val RMSE: 4.2448 | Test RMSE: 4.2237\n"
     ]
    }
   ],
   "source": [
    "# ---------------------------\n",
    "# 4. Training Loop with Validation\n",
    "# ---------------------------\n",
    "\n",
    "learning_rate = 0.005\n",
    "num_epochs = 1\n",
    "\n",
    "for epoch in range(num_epochs):\n",
    "    # Shuffle training data at the start of each epoch\n",
    "    train_data_shuffled = train_data.sample(frac=1).reset_index(drop=True)\n",
    "    \n",
    "    # Process each training example\n",
    "    for _, row in train_data_shuffled.iterrows():\n",
    "        u_idx = row['u']\n",
    "        i_idx = row['i']\n",
    "        rating = row['bayesian_avg']\n",
    "        \n",
    "        # Compute prediction and error\n",
    "        pred = predict(u_idx, i_idx)\n",
    "        error = rating - pred\n",
    "        \n",
    "        # Compute gradients (derivative of squared error)\n",
    "        grad_u = -2 * error * item_factors[i_idx]\n",
    "        grad_i = -2 * error * user_factors[u_idx]\n",
    "        \n",
    "        # Update latent factors using gradient descent\n",
    "        user_factors[u_idx] -= learning_rate * grad_u\n",
    "        item_factors[i_idx] -= learning_rate * grad_i\n",
    "    \n",
    "    # Compute RMSE for training, validation, and test datasets\n",
    "    train_rmse = compute_rmse(train_data)\n",
    "    val_rmse = compute_rmse(val_data)\n",
    "    test_rmse = compute_rmse(test_data)\n",
    "    \n",
    "    # Print intermediate results for this epoch\n",
    "    print(f\"Epoch {epoch+1}/{num_epochs} - Train RMSE: {train_rmse:.4f} | Val RMSE: {val_rmse:.4f} | Test RMSE: {test_rmse:.4f}\")"
   ]
  },
  {
   "cell_type": "code",
   "execution_count": 31,
   "metadata": {},
   "outputs": [
    {
     "data": {
      "text/plain": [
       "np.float64(5.252547005635863)"
      ]
     },
     "execution_count": 31,
     "metadata": {},
     "output_type": "execute_result"
    }
   ],
   "source": [
    "user_id = 8937\n",
    "item_id  = 44551\n",
    "\n",
    "predicted_rating = np.dot(user_factors[user_id], item_factors[item_id])\n",
    "predicted_rating"
   ]
  },
  {
   "cell_type": "code",
   "execution_count": 32,
   "metadata": {},
   "outputs": [
    {
     "data": {
      "text/plain": [
       "(np.float64(4.965089335455729), np.float64(2.3225374552332876))"
      ]
     },
     "execution_count": 32,
     "metadata": {},
     "output_type": "execute_result"
    }
   ],
   "source": [
    "train_data['bayesian_avg'].max(), train_data['bayesian_avg'].min()"
   ]
  },
  {
   "cell_type": "code",
   "execution_count": null,
   "metadata": {},
   "outputs": [],
   "source": []
  }
 ],
 "metadata": {
  "kernelspec": {
   "display_name": "recipe",
   "language": "python",
   "name": "python3"
  },
  "language_info": {
   "codemirror_mode": {
    "name": "ipython",
    "version": 3
   },
   "file_extension": ".py",
   "mimetype": "text/x-python",
   "name": "python",
   "nbconvert_exporter": "python",
   "pygments_lexer": "ipython3",
   "version": "3.12.8"
  }
 },
 "nbformat": 4,
 "nbformat_minor": 2
}
